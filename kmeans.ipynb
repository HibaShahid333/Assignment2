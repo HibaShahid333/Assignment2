{
 "cells": [
  {
   "cell_type": "markdown",
   "id": "9e823d52",
   "metadata": {},
   "source": [
    "# Kmean clustring "
   ]
  },
  {
   "cell_type": "code",
   "execution_count": 19,
   "id": "f7d566ea",
   "metadata": {},
   "outputs": [
    {
     "name": "stdout",
     "output_type": "stream",
     "text": [
      "Enter the list: 15 15 16 19 19 20 20 21 22 28 35 40 41 42 43 44 60 61 65\n",
      "Enter the centeroid:16\n",
      "Enter the centeroid:22\n"
     ]
    }
   ],
   "source": [
    "data = [int(x) for x in input ('Enter the list: ').split()]\n",
    "centroid1 = int(input(\"Enter the centeroid:\"))\n",
    "centroid2= int(input(\"Enter the centeroid:\"))"
   ]
  },
  {
   "cell_type": "code",
   "execution_count": 20,
   "id": "fb193936",
   "metadata": {},
   "outputs": [],
   "source": [
    "Flag= False\n",
    "while (Flag != True):\n",
    "    group1=group2=0\n",
    "    count1=count2=0\n",
    "    for i in range(len(data)):\n",
    "        c1 = data[i]-centroid1\n",
    "        c2 = data[i]-centroid2\n",
    "        if c1<0:\n",
    "            c1=c1*-1\n",
    "        if c2<0:\n",
    "            c2=c2*-1\n",
    "        if c1>c2:\n",
    "            group2=group2+ data[i]\n",
    "            count2=count2+1\n",
    "        else:\n",
    "            group1=group1+data[i]\n",
    "            count1=count1+1\n",
    "    group1=group1/count1\n",
    "    group1=round(group1,2)\n",
    "    group2=group2/count2\n",
    "    group2=round(group2,2)\n",
    "    if group1!=centroid1 or group2!= centroid2:\n",
    "        centroid1=group1\n",
    "        centroid2=group2\n",
    "    else:\n",
    "        break\n",
    "    \n",
    "    \n",
    "    "
   ]
  },
  {
   "cell_type": "code",
   "execution_count": 21,
   "id": "4834771a",
   "metadata": {},
   "outputs": [
    {
     "name": "stdout",
     "output_type": "stream",
     "text": [
      "19.5\n"
     ]
    }
   ],
   "source": [
    "print(centroid1)"
   ]
  },
  {
   "cell_type": "code",
   "execution_count": 22,
   "id": "fd366b8d",
   "metadata": {},
   "outputs": [
    {
     "name": "stdout",
     "output_type": "stream",
     "text": [
      "47.89\n"
     ]
    }
   ],
   "source": [
    "print(centroid2)"
   ]
  },
  {
   "cell_type": "code",
   "execution_count": null,
   "id": "85454fd5",
   "metadata": {},
   "outputs": [],
   "source": []
  }
 ],
 "metadata": {
  "kernelspec": {
   "display_name": "Python 3 (ipykernel)",
   "language": "python",
   "name": "python3"
  },
  "language_info": {
   "codemirror_mode": {
    "name": "ipython",
    "version": 3
   },
   "file_extension": ".py",
   "mimetype": "text/x-python",
   "name": "python",
   "nbconvert_exporter": "python",
   "pygments_lexer": "ipython3",
   "version": "3.9.7"
  }
 },
 "nbformat": 4,
 "nbformat_minor": 5
}
